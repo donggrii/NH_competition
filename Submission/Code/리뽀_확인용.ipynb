{
 "cells": [
  {
   "cell_type": "code",
   "execution_count": null,
   "metadata": {
    "colab": {
     "base_uri": "https://localhost:8080/"
    },
    "executionInfo": {
     "elapsed": 1141,
     "status": "ok",
     "timestamp": 1610013165068,
     "user": {
      "displayName": "이찬솔",
      "photoUrl": "",
      "userId": "11969419735175061289"
     },
     "user_tz": -540
    },
    "id": "UJBA1TTH1SXa",
    "outputId": "9523f8c0-457c-47cf-f2ee-9be168f86b13"
   },
   "outputs": [
    {
     "name": "stdout",
     "output_type": "stream",
     "text": [
      "Cloning into 'KoBERT'...\n",
      "remote: Enumerating objects: 155, done.\u001b[K\n",
      "remote: Total 155 (delta 0), reused 0 (delta 0), pack-reused 155\u001b[K\n",
      "Receiving objects: 100% (155/155), 179.81 KiB | 8.99 MiB/s, done.\n",
      "Resolving deltas: 100% (82/82), done.\n"
     ]
    }
   ],
   "source": [
    "!git clone https://github.com/SKTBrain/KoBERT.git"
   ]
  },
  {
   "cell_type": "code",
   "execution_count": null,
   "metadata": {
    "colab": {
     "base_uri": "https://localhost:8080/"
    },
    "executionInfo": {
     "elapsed": 1129,
     "status": "ok",
     "timestamp": 1610013165069,
     "user": {
      "displayName": "이찬솔",
      "photoUrl": "",
      "userId": "11969419735175061289"
     },
     "user_tz": -540
    },
    "id": "HhZyqg3r1YHS",
    "outputId": "0d416ec0-3983-43f7-fb76-1ce6fbfe3519"
   },
   "outputs": [
    {
     "name": "stdout",
     "output_type": "stream",
     "text": [
      "/content/KoBERT/KoBERT\n"
     ]
    }
   ],
   "source": [
    "cd KoBERT"
   ]
  },
  {
   "cell_type": "code",
   "execution_count": null,
   "metadata": {
    "colab": {
     "base_uri": "https://localhost:8080/"
    },
    "executionInfo": {
     "elapsed": 6727,
     "status": "ok",
     "timestamp": 1610013170675,
     "user": {
      "displayName": "이찬솔",
      "photoUrl": "",
      "userId": "11969419735175061289"
     },
     "user_tz": -540
    },
    "id": "W7AAhtsp1Yaz",
    "outputId": "eabadfcc-3a92-4e1f-db56-d5e638148d44"
   },
   "outputs": [
    {
     "name": "stdout",
     "output_type": "stream",
     "text": [
      "Requirement already satisfied: torch>=1.7.0 in /usr/local/lib/python3.6/dist-packages (from -r requirements.txt (line 1)) (1.7.0+cu101)\n",
      "Requirement already satisfied: mxnet>=1.4.0 in /usr/local/lib/python3.6/dist-packages (from -r requirements.txt (line 2)) (1.7.0.post1)\n",
      "Requirement already satisfied: gluonnlp>=0.6.0 in /usr/local/lib/python3.6/dist-packages (from -r requirements.txt (line 3)) (0.10.0)\n",
      "Requirement already satisfied: sentencepiece>=0.1.6 in /usr/local/lib/python3.6/dist-packages (from -r requirements.txt (line 4)) (0.1.94)\n",
      "Requirement already satisfied: onnxruntime>=0.3.0 in /usr/local/lib/python3.6/dist-packages (from -r requirements.txt (line 5)) (1.6.0)\n",
      "Requirement already satisfied: transformers>=3.5.0 in /usr/local/lib/python3.6/dist-packages (from -r requirements.txt (line 6)) (4.1.1)\n",
      "Requirement already satisfied: future in /usr/local/lib/python3.6/dist-packages (from torch>=1.7.0->-r requirements.txt (line 1)) (0.16.0)\n",
      "Requirement already satisfied: dataclasses in /usr/local/lib/python3.6/dist-packages (from torch>=1.7.0->-r requirements.txt (line 1)) (0.8)\n",
      "Requirement already satisfied: numpy in /usr/local/lib/python3.6/dist-packages (from torch>=1.7.0->-r requirements.txt (line 1)) (1.19.4)\n",
      "Requirement already satisfied: typing-extensions in /usr/local/lib/python3.6/dist-packages (from torch>=1.7.0->-r requirements.txt (line 1)) (3.7.4.3)\n",
      "Requirement already satisfied: requests<3,>=2.20.0 in /usr/local/lib/python3.6/dist-packages (from mxnet>=1.4.0->-r requirements.txt (line 2)) (2.23.0)\n",
      "Requirement already satisfied: graphviz<0.9.0,>=0.8.1 in /usr/local/lib/python3.6/dist-packages (from mxnet>=1.4.0->-r requirements.txt (line 2)) (0.8.4)\n",
      "Requirement already satisfied: cython in /usr/local/lib/python3.6/dist-packages (from gluonnlp>=0.6.0->-r requirements.txt (line 3)) (0.29.21)\n",
      "Requirement already satisfied: packaging in /usr/local/lib/python3.6/dist-packages (from gluonnlp>=0.6.0->-r requirements.txt (line 3)) (20.8)\n",
      "Requirement already satisfied: protobuf in /usr/local/lib/python3.6/dist-packages (from onnxruntime>=0.3.0->-r requirements.txt (line 5)) (3.12.4)\n",
      "Requirement already satisfied: tokenizers==0.9.4 in /usr/local/lib/python3.6/dist-packages (from transformers>=3.5.0->-r requirements.txt (line 6)) (0.9.4)\n",
      "Requirement already satisfied: filelock in /usr/local/lib/python3.6/dist-packages (from transformers>=3.5.0->-r requirements.txt (line 6)) (3.0.12)\n",
      "Requirement already satisfied: sacremoses in /usr/local/lib/python3.6/dist-packages (from transformers>=3.5.0->-r requirements.txt (line 6)) (0.0.43)\n",
      "Requirement already satisfied: regex!=2019.12.17 in /usr/local/lib/python3.6/dist-packages (from transformers>=3.5.0->-r requirements.txt (line 6)) (2019.12.20)\n",
      "Requirement already satisfied: tqdm>=4.27 in /usr/local/lib/python3.6/dist-packages (from transformers>=3.5.0->-r requirements.txt (line 6)) (4.41.1)\n",
      "Requirement already satisfied: certifi>=2017.4.17 in /usr/local/lib/python3.6/dist-packages (from requests<3,>=2.20.0->mxnet>=1.4.0->-r requirements.txt (line 2)) (2020.12.5)\n",
      "Requirement already satisfied: urllib3!=1.25.0,!=1.25.1,<1.26,>=1.21.1 in /usr/local/lib/python3.6/dist-packages (from requests<3,>=2.20.0->mxnet>=1.4.0->-r requirements.txt (line 2)) (1.24.3)\n",
      "Requirement already satisfied: idna<3,>=2.5 in /usr/local/lib/python3.6/dist-packages (from requests<3,>=2.20.0->mxnet>=1.4.0->-r requirements.txt (line 2)) (2.10)\n",
      "Requirement already satisfied: chardet<4,>=3.0.2 in /usr/local/lib/python3.6/dist-packages (from requests<3,>=2.20.0->mxnet>=1.4.0->-r requirements.txt (line 2)) (3.0.4)\n",
      "Requirement already satisfied: pyparsing>=2.0.2 in /usr/local/lib/python3.6/dist-packages (from packaging->gluonnlp>=0.6.0->-r requirements.txt (line 3)) (2.4.7)\n",
      "Requirement already satisfied: setuptools in /usr/local/lib/python3.6/dist-packages (from protobuf->onnxruntime>=0.3.0->-r requirements.txt (line 5)) (51.0.0)\n",
      "Requirement already satisfied: six>=1.9 in /usr/local/lib/python3.6/dist-packages (from protobuf->onnxruntime>=0.3.0->-r requirements.txt (line 5)) (1.15.0)\n",
      "Requirement already satisfied: joblib in /usr/local/lib/python3.6/dist-packages (from sacremoses->transformers>=3.5.0->-r requirements.txt (line 6)) (1.0.0)\n",
      "Requirement already satisfied: click in /usr/local/lib/python3.6/dist-packages (from sacremoses->transformers>=3.5.0->-r requirements.txt (line 6)) (7.1.2)\n",
      "Processing /content/KoBERT/KoBERT\n",
      "Building wheels for collected packages: kobert\n",
      "  Building wheel for kobert (setup.py) ... \u001b[?25l\u001b[?25hdone\n",
      "  Created wheel for kobert: filename=kobert-0.1.2-cp36-none-any.whl size=12734 sha256=5b98db816cdfad46b471bf46daa9659b2cc7934d2bae592adc28603d42878c4c\n",
      "  Stored in directory: /tmp/pip-ephem-wheel-cache-x7l3lhms/wheels/cd/9c/c8/68129cdbd7e1c11968964aa15522594a68516572354106cfa4\n",
      "Successfully built kobert\n",
      "Installing collected packages: kobert\n",
      "  Found existing installation: kobert 0.1.2\n",
      "    Uninstalling kobert-0.1.2:\n",
      "      Successfully uninstalled kobert-0.1.2\n",
      "Successfully installed kobert-0.1.2\n"
     ]
    }
   ],
   "source": [
    "!pip install -r requirements.txt\n",
    "!pip install ."
   ]
  },
  {
   "cell_type": "code",
   "execution_count": null,
   "metadata": {
    "colab": {
     "base_uri": "https://localhost:8080/"
    },
    "executionInfo": {
     "elapsed": 10931,
     "status": "ok",
     "timestamp": 1610013174889,
     "user": {
      "displayName": "이찬솔",
      "photoUrl": "",
      "userId": "11969419735175061289"
     },
     "user_tz": -540
    },
    "id": "dXFDE9iK1bue",
    "outputId": "172f9ac9-3a49-4879-ec2e-83f171e95933"
   },
   "outputs": [
    {
     "name": "stdout",
     "output_type": "stream",
     "text": [
      "Requirement already satisfied: gluonnlp in /usr/local/lib/python3.6/dist-packages (0.10.0)\n",
      "Requirement already satisfied: pandas in /usr/local/lib/python3.6/dist-packages (1.1.5)\n",
      "Requirement already satisfied: tqdm in /usr/local/lib/python3.6/dist-packages (4.41.1)\n",
      "Requirement already satisfied: cython in /usr/local/lib/python3.6/dist-packages (from gluonnlp) (0.29.21)\n",
      "Requirement already satisfied: numpy>=1.16.0 in /usr/local/lib/python3.6/dist-packages (from gluonnlp) (1.19.4)\n",
      "Requirement already satisfied: packaging in /usr/local/lib/python3.6/dist-packages (from gluonnlp) (20.8)\n",
      "Requirement already satisfied: pytz>=2017.2 in /usr/local/lib/python3.6/dist-packages (from pandas) (2018.9)\n",
      "Requirement already satisfied: python-dateutil>=2.7.3 in /usr/local/lib/python3.6/dist-packages (from pandas) (2.8.1)\n",
      "Requirement already satisfied: pyparsing>=2.0.2 in /usr/local/lib/python3.6/dist-packages (from packaging->gluonnlp) (2.4.7)\n",
      "Requirement already satisfied: six>=1.5 in /usr/local/lib/python3.6/dist-packages (from python-dateutil>=2.7.3->pandas) (1.15.0)\n",
      "Requirement already satisfied: sentencepiece in /usr/local/lib/python3.6/dist-packages (0.1.94)\n"
     ]
    }
   ],
   "source": [
    "!pip install gluonnlp pandas tqdm\n",
    "!pip install sentencepiece"
   ]
  },
  {
   "cell_type": "code",
   "execution_count": null,
   "metadata": {
    "id": "ZIyymGRI1dIa"
   },
   "outputs": [],
   "source": [
    "import os\n",
    "os.chdir('/content/리뽀/')           # 저희 팀 이름인 '리뽀' 폴더를 content 폴더에 넣어 둔 채로 실행한다고 가정하여 작성하였습니다."
   ]
  },
  {
   "cell_type": "code",
   "execution_count": null,
   "metadata": {
    "id": "yx1rGhQ91sqr"
   },
   "outputs": [],
   "source": [
    "# 데이터 불러오기\n",
    "\n",
    "import pandas as pd\n",
    "\n",
    "test_data = pd.read_csv('1. Data/news_test.csv')\n",
    "submission_data = pd.read_csv('1. Data/sample_submission.csv')"
   ]
  },
  {
   "cell_type": "code",
   "execution_count": null,
   "metadata": {
    "id": "IXYQmcXi1uiP"
   },
   "outputs": [],
   "source": [
    "# 시간 측정 시작\n",
    "\n",
    "import time\n",
    "start = time.time()  # 시작 시간 저장"
   ]
  },
  {
   "cell_type": "code",
   "execution_count": null,
   "metadata": {
    "id": "mKZ7GWf61v8k"
   },
   "outputs": [],
   "source": [
    "# Library 불러오기\n",
    "\n",
    "from gluonnlp.data import SentencepieceTokenizer\n",
    "from kobert.utils import get_tokenizer\n",
    "import numpy as np\n",
    "from tensorflow.keras.preprocessing.text import Tokenizer\n",
    "from tensorflow.keras.preprocessing.sequence import pad_sequences  \n",
    "import pickle\n",
    "from tensorflow.keras.models import load_model"
   ]
  },
  {
   "cell_type": "code",
   "execution_count": null,
   "metadata": {
    "colab": {
     "base_uri": "https://localhost:8080/"
    },
    "executionInfo": {
     "elapsed": 12932,
     "status": "ok",
     "timestamp": 1610013288398,
     "user": {
      "displayName": "이찬솔",
      "photoUrl": "",
      "userId": "11969419735175061289"
     },
     "user_tz": -540
    },
    "id": "a0gTpIAf2is8",
    "outputId": "6d96b521-2ac5-484b-e028-a1d26ef56037"
   },
   "outputs": [
    {
     "name": "stdout",
     "output_type": "stream",
     "text": [
      "\r",
      "[██████████████████████████████████████████████████]\n"
     ]
    }
   ],
   "source": [
    "# pos_tagger, tokenizer, pretrained_embedding, model 불러오기\n",
    "\n",
    "tok_path = get_tokenizer()\n",
    "sp = SentencepieceTokenizer(tok_path)                              # pos_tagger\n",
    "\n",
    "with open('3. Tokenizer/tokenizer.pickle', 'rb') as handle:        # tokenizer\n",
    "  loaded_tokenizer = pickle.load(handle)\n",
    "\n",
    "np.load('4. Pre_trained embedding/embedding_matrix.npy')           # pre_trained embedding\n",
    "\n",
    "loaded_model = load_model('5. Model/kobert_gensim_model.h5')       # model"
   ]
  },
  {
   "cell_type": "code",
   "execution_count": null,
   "metadata": {
    "colab": {
     "base_uri": "https://localhost:8080/"
    },
    "executionInfo": {
     "elapsed": 96797,
     "status": "ok",
     "timestamp": 1610013372270,
     "user": {
      "displayName": "이찬솔",
      "photoUrl": "",
      "userId": "11969419735175061289"
     },
     "user_tz": -540
    },
    "id": "yp4YzetT2oaz",
    "outputId": "42b67aaf-57df-42b5-be29-fcd1a05a56d1"
   },
   "outputs": [
    {
     "name": "stderr",
     "output_type": "stream",
     "text": [
      "/usr/local/lib/python3.6/dist-packages/ipykernel_launcher.py:6: SettingWithCopyWarning: \n",
      "A value is trying to be set on a copy of a slice from a DataFrame\n",
      "\n",
      "See the caveats in the documentation: https://pandas.pydata.org/pandas-docs/stable/user_guide/indexing.html#returning-a-view-versus-a-copy\n",
      "  \n"
     ]
    }
   ],
   "source": [
    "# 형태소 분석 + 전처리\n",
    "\n",
    "x_test_data = test_data['content']\n",
    "\n",
    "for i in range(0, len(x_test_data)):\n",
    "  x_test_data[i] = sp(x_test_data[i])\n",
    "  \n",
    "tokenizer = loaded_tokenizer\n",
    "x_Test_sequences = tokenizer.texts_to_sequences(x_test_data)\n",
    "\n",
    "vocabulary = tokenizer.word_index\n",
    "vocab_size = len(vocabulary) + 1\n",
    "\n",
    "Test_data = x_Test_sequences\n",
    "\n",
    "max_len = 25\n",
    "X_test = pad_sequences(Test_data, maxlen = max_len)"
   ]
  },
  {
   "cell_type": "code",
   "execution_count": null,
   "metadata": {
    "id": "ZGXu6m5P2qW9"
   },
   "outputs": [],
   "source": [
    "# 예측\n",
    "\n",
    "pred_test = loaded_model.predict(X_test)\n",
    "submission_data.loc[:, 'info'] = np.where(pred_test > 0.5, 1,0).reshape(-1)"
   ]
  },
  {
   "cell_type": "code",
   "execution_count": null,
   "metadata": {
    "colab": {
     "base_uri": "https://localhost:8080/"
    },
    "executionInfo": {
     "elapsed": 111492,
     "status": "ok",
     "timestamp": 1610013386973,
     "user": {
      "displayName": "이찬솔",
      "photoUrl": "",
      "userId": "11969419735175061289"
     },
     "user_tz": -540
    },
    "id": "q4htSibe2rEn",
    "outputId": "d845c2ce-5631-491b-ac46-1b927367dc66"
   },
   "outputs": [
    {
     "name": "stdout",
     "output_type": "stream",
     "text": [
      "time : 110.38749051094055\n"
     ]
    }
   ],
   "source": [
    "print(\"time :\", time.time() - start)  # 현재시각 - 시작시간 = 실행 시간"
   ]
  },
  {
   "cell_type": "code",
   "execution_count": null,
   "metadata": {
    "id": "r08U-0i62szh"
   },
   "outputs": [],
   "source": [
    "# 제출\n",
    "\n",
    "submission_data.loc[:, [\"id\",\"info\"]].to_csv(\"submission_data(KoBERT)(gensim)1228(noval)ep1-newpara.csv\", index = False)"
   ]
  }
 ],
 "metadata": {
  "accelerator": "GPU",
  "colab": {
   "collapsed_sections": [],
   "name": "리뽀_확인용.ipynb",
   "provenance": []
  },
  "kernelspec": {
   "display_name": "Python 3",
   "language": "python",
   "name": "python3"
  },
  "language_info": {
   "codemirror_mode": {
    "name": "ipython",
    "version": 3
   },
   "file_extension": ".py",
   "mimetype": "text/x-python",
   "name": "python",
   "nbconvert_exporter": "python",
   "pygments_lexer": "ipython3",
   "version": "3.8.5"
  }
 },
 "nbformat": 4,
 "nbformat_minor": 1
}
